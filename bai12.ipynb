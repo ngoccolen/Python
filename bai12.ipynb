{
 "cells": [
  {
   "cell_type": "code",
   "execution_count": 1,
   "id": "9500e030-5746-477d-8cee-dd60fecb26d1",
   "metadata": {},
   "outputs": [
    {
     "name": "stdin",
     "output_type": "stream",
     "text": [
      "Enter meal money:  15000\n"
     ]
    }
   ],
   "source": [
    "a = float(input(\"Enter meal money: \"))"
   ]
  },
  {
   "cell_type": "code",
   "execution_count": 2,
   "id": "33a5730b-99f0-42fe-a72d-187414e804ac",
   "metadata": {},
   "outputs": [],
   "source": [
    "b = a * 0.05"
   ]
  },
  {
   "cell_type": "code",
   "execution_count": 3,
   "id": "8ad7dd40-eecd-4baf-8327-dcd26b82b6b8",
   "metadata": {},
   "outputs": [],
   "source": [
    "c = a * 0.18"
   ]
  },
  {
   "cell_type": "code",
   "execution_count": 4,
   "id": "860a3fb3-de7f-4f17-95ba-1076c80db30b",
   "metadata": {},
   "outputs": [],
   "source": [
    "S = a + b + c"
   ]
  },
  {
   "cell_type": "code",
   "execution_count": 5,
   "id": "5647c168-35a6-4b49-9ac3-3de9e45225e2",
   "metadata": {},
   "outputs": [
    {
     "name": "stdout",
     "output_type": "stream",
     "text": [
      "Total money = 18450.0\n"
     ]
    }
   ],
   "source": [
    "print(f\"Total money = {round(S, 2)}\") "
   ]
  },
  {
   "cell_type": "code",
   "execution_count": null,
   "id": "dba2b8b5-b219-421e-a68e-8bc36cc4d520",
   "metadata": {},
   "outputs": [],
   "source": []
  }
 ],
 "metadata": {
  "kernelspec": {
   "display_name": "Python [conda env:base] *",
   "language": "python",
   "name": "conda-base-py"
  },
  "language_info": {
   "codemirror_mode": {
    "name": "ipython",
    "version": 3
   },
   "file_extension": ".py",
   "mimetype": "text/x-python",
   "name": "python",
   "nbconvert_exporter": "python",
   "pygments_lexer": "ipython3",
   "version": "3.13.5"
  }
 },
 "nbformat": 4,
 "nbformat_minor": 5
}
