{
 "cells": [
  {
   "cell_type": "code",
   "execution_count": 1,
   "id": "7a1e5ae1-3ecd-41b6-a2d3-c8542377c12e",
   "metadata": {},
   "outputs": [
    {
     "name": "stdin",
     "output_type": "stream",
     "text": [
      "Enter your string Nguyen Ngoc\n"
     ]
    }
   ],
   "source": [
    "st = input(\"Enter your string\")"
   ]
  },
  {
   "cell_type": "code",
   "execution_count": 2,
   "id": "5686859b-cf33-455a-9c33-e4c44ae0f8d2",
   "metadata": {},
   "outputs": [],
   "source": [
    "first_5_character = st[:5]"
   ]
  },
  {
   "cell_type": "code",
   "execution_count": 3,
   "id": "a3eef486-ae3f-483f-8784-04ec0fe54c2b",
   "metadata": {},
   "outputs": [],
   "source": [
    "last_5_character = st[len(st)-5:]"
   ]
  },
  {
   "cell_type": "code",
   "execution_count": 4,
   "id": "faf38b4a-2f88-4107-a1ef-9c3037b4d157",
   "metadata": {},
   "outputs": [],
   "source": [
    "st_in_1_line = 4 * (st + \" \")"
   ]
  },
  {
   "cell_type": "code",
   "execution_count": 5,
   "id": "57d5599b-f843-4046-a7e0-419aa7a874ff",
   "metadata": {},
   "outputs": [],
   "source": [
    "st_in_4_line = 4 * (st + \"\\n\")"
   ]
  },
  {
   "cell_type": "code",
   "execution_count": 6,
   "id": "71db666e-ba79-4b52-b182-32441a6126de",
   "metadata": {},
   "outputs": [
    {
     "name": "stdout",
     "output_type": "stream",
     "text": [
      "First five characters are: Nguye\n"
     ]
    }
   ],
   "source": [
    "print(\"First five characters are: \" + first_5_character)"
   ]
  },
  {
   "cell_type": "code",
   "execution_count": 7,
   "id": "e4a0ca25-7f8f-45b3-9c91-f9d0de342188",
   "metadata": {},
   "outputs": [
    {
     "name": "stdout",
     "output_type": "stream",
     "text": [
      "Last five characters are:  Ngoc\n"
     ]
    }
   ],
   "source": [
    "print(\"Last five characters are: \" + last_5_character)"
   ]
  },
  {
   "cell_type": "code",
   "execution_count": 8,
   "id": "49817958-2c7c-4248-a35d-0b8e00e479e6",
   "metadata": {},
   "outputs": [
    {
     "name": "stdout",
     "output_type": "stream",
     "text": [
      "Four strings of one line are:  Nguyen Ngoc Nguyen Ngoc Nguyen Ngoc Nguyen Ngoc \n"
     ]
    }
   ],
   "source": [
    "print(\"Four strings of one line are:  \" + st_in_1_line)"
   ]
  },
  {
   "cell_type": "code",
   "execution_count": 9,
   "id": "30f0a77b-252f-4be7-8f70-952afc7ea883",
   "metadata": {},
   "outputs": [
    {
     "name": "stdout",
     "output_type": "stream",
     "text": [
      "Four strings of 4 line are:  Nguyen Ngoc\n",
      "Nguyen Ngoc\n",
      "Nguyen Ngoc\n",
      "Nguyen Ngoc\n",
      "\n"
     ]
    }
   ],
   "source": [
    "print(\"Four strings of 4 line are:  \" + st_in_4_line)"
   ]
  },
  {
   "cell_type": "code",
   "execution_count": null,
   "id": "c809ecc6-c679-42fb-8930-a724b985a7ca",
   "metadata": {},
   "outputs": [],
   "source": []
  }
 ],
 "metadata": {
  "kernelspec": {
   "display_name": "Python [conda env:base] *",
   "language": "python",
   "name": "conda-base-py"
  },
  "language_info": {
   "codemirror_mode": {
    "name": "ipython",
    "version": 3
   },
   "file_extension": ".py",
   "mimetype": "text/x-python",
   "name": "python",
   "nbconvert_exporter": "python",
   "pygments_lexer": "ipython3",
   "version": "3.13.5"
  }
 },
 "nbformat": 4,
 "nbformat_minor": 5
}
