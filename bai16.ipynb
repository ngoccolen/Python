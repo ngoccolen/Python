{
 "cells": [
  {
   "cell_type": "code",
   "execution_count": 1,
   "id": "a0fe0281-f451-4792-8659-acaaf9748762",
   "metadata": {},
   "outputs": [],
   "source": [
    "from math import *"
   ]
  },
  {
   "cell_type": "code",
   "execution_count": 2,
   "id": "b9462a5e-de77-430a-94c4-c364948a3819",
   "metadata": {},
   "outputs": [],
   "source": [
    "a = 9.8"
   ]
  },
  {
   "cell_type": "code",
   "execution_count": 3,
   "id": "d36fea65-e68c-4acc-a950-e7437f79a2c6",
   "metadata": {},
   "outputs": [],
   "source": [
    "vi = 0"
   ]
  },
  {
   "cell_type": "code",
   "execution_count": 4,
   "id": "33c2fa30-02f7-4491-a164-c523b5ae5a9a",
   "metadata": {},
   "outputs": [
    {
     "name": "stdin",
     "output_type": "stream",
     "text": [
      "Nhập chiều cao vật được thả:  10\n"
     ]
    }
   ],
   "source": [
    "d = float(input(\"Nhập chiều cao vật được thả: \"))"
   ]
  },
  {
   "cell_type": "code",
   "execution_count": 5,
   "id": "27a2bfe5-a723-4153-90a0-af98e3dc233a",
   "metadata": {},
   "outputs": [],
   "source": [
    "vf = sqrt(vi*vi + 2*a*d)"
   ]
  },
  {
   "cell_type": "code",
   "execution_count": 6,
   "id": "6772a3ed-ee29-49de-8622-707cec0eed2f",
   "metadata": {},
   "outputs": [
    {
     "name": "stdout",
     "output_type": "stream",
     "text": [
      "14.0\n"
     ]
    }
   ],
   "source": [
    "print(vf)"
   ]
  },
  {
   "cell_type": "code",
   "execution_count": null,
   "id": "f877b90d-bb3b-4a71-8522-b249ad13460f",
   "metadata": {},
   "outputs": [],
   "source": []
  }
 ],
 "metadata": {
  "kernelspec": {
   "display_name": "Python [conda env:base] *",
   "language": "python",
   "name": "conda-base-py"
  },
  "language_info": {
   "codemirror_mode": {
    "name": "ipython",
    "version": 3
   },
   "file_extension": ".py",
   "mimetype": "text/x-python",
   "name": "python",
   "nbconvert_exporter": "python",
   "pygments_lexer": "ipython3",
   "version": "3.13.5"
  }
 },
 "nbformat": 4,
 "nbformat_minor": 5
}
