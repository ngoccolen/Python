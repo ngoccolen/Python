{
 "cells": [
  {
   "cell_type": "code",
   "execution_count": 1,
   "id": "2c0599c0-0ed6-4e93-b207-53ab2c7e9111",
   "metadata": {},
   "outputs": [],
   "source": [
    "from math import *"
   ]
  },
  {
   "cell_type": "code",
   "execution_count": 2,
   "id": "feeb5b97-4eaf-4829-9848-3de78d38b505",
   "metadata": {},
   "outputs": [
    {
     "name": "stdin",
     "output_type": "stream",
     "text": [
      "Enter length =  12.5\n"
     ]
    }
   ],
   "source": [
    "length = float(input(\"Enter length = \"))"
   ]
  },
  {
   "cell_type": "code",
   "execution_count": 3,
   "id": "140bb354-5569-44dc-bebf-424fa1448968",
   "metadata": {},
   "outputs": [
    {
     "name": "stdin",
     "output_type": "stream",
     "text": [
      "Enter width =  10\n"
     ]
    }
   ],
   "source": [
    "width = float(input(\"Enter width = \"))"
   ]
  },
  {
   "cell_type": "code",
   "execution_count": 4,
   "id": "c41d155f-32f1-4a71-975f-432b3b2a4885",
   "metadata": {},
   "outputs": [],
   "source": [
    "S = (length * width) / 43560"
   ]
  },
  {
   "cell_type": "code",
   "execution_count": 5,
   "id": "7655da66-4fe9-49fb-bc40-9a28aef6b9ab",
   "metadata": {},
   "outputs": [
    {
     "name": "stdout",
     "output_type": "stream",
     "text": [
      "0.002869605142332415\n"
     ]
    }
   ],
   "source": [
    "print(S)"
   ]
  },
  {
   "cell_type": "code",
   "execution_count": null,
   "id": "a6a22b02-530e-403b-af87-8df56c06d440",
   "metadata": {},
   "outputs": [],
   "source": []
  }
 ],
 "metadata": {
  "kernelspec": {
   "display_name": "Python [conda env:base] *",
   "language": "python",
   "name": "conda-base-py"
  },
  "language_info": {
   "codemirror_mode": {
    "name": "ipython",
    "version": 3
   },
   "file_extension": ".py",
   "mimetype": "text/x-python",
   "name": "python",
   "nbconvert_exporter": "python",
   "pygments_lexer": "ipython3",
   "version": "3.13.5"
  }
 },
 "nbformat": 4,
 "nbformat_minor": 5
}
