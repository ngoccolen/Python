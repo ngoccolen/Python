{
 "cells": [
  {
   "cell_type": "code",
   "execution_count": 1,
   "id": "5f2f2650-1db6-4cdc-a7dc-22b00265021b",
   "metadata": {},
   "outputs": [],
   "source": [
    "from math import pi"
   ]
  },
  {
   "cell_type": "code",
   "execution_count": 2,
   "id": "66483ebf-4edc-42d4-a8ee-4024d820b122",
   "metadata": {},
   "outputs": [
    {
     "name": "stdin",
     "output_type": "stream",
     "text": [
      "Enter radius:  3\n"
     ]
    }
   ],
   "source": [
    "r = float(input(\"Enter radius: \"))"
   ]
  },
  {
   "cell_type": "code",
   "execution_count": 3,
   "id": "502e7f17-3df4-43eb-8f5c-92ad39c10008",
   "metadata": {},
   "outputs": [
    {
     "name": "stdin",
     "output_type": "stream",
     "text": [
      "Enter height:  4\n"
     ]
    }
   ],
   "source": [
    "h = float(input(\"Enter height: \"))"
   ]
  },
  {
   "cell_type": "code",
   "execution_count": 4,
   "id": "9619d2b2-964f-4a38-9c88-36857083b5a1",
   "metadata": {},
   "outputs": [],
   "source": [
    "v = pi * (r*r) * h"
   ]
  },
  {
   "cell_type": "code",
   "execution_count": 5,
   "id": "5d5b9b09-790d-4893-a057-a4c5ff9aeaab",
   "metadata": {},
   "outputs": [
    {
     "name": "stdout",
     "output_type": "stream",
     "text": [
      "113.09733552923255\n"
     ]
    }
   ],
   "source": [
    "print(v)"
   ]
  }
 ],
 "metadata": {
  "kernelspec": {
   "display_name": "Python [conda env:base] *",
   "language": "python",
   "name": "conda-base-py"
  },
  "language_info": {
   "codemirror_mode": {
    "name": "ipython",
    "version": 3
   },
   "file_extension": ".py",
   "mimetype": "text/x-python",
   "name": "python",
   "nbconvert_exporter": "python",
   "pygments_lexer": "ipython3",
   "version": "3.13.5"
  }
 },
 "nbformat": 4,
 "nbformat_minor": 5
}
