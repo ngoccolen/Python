{
 "cells": [
  {
   "cell_type": "code",
   "execution_count": 1,
   "id": "eefb81bb-798b-4ff9-b771-718f2745c732",
   "metadata": {},
   "outputs": [],
   "source": [
    "from math import * "
   ]
  },
  {
   "cell_type": "code",
   "execution_count": 2,
   "id": "65316f7a-cef9-4d14-be4a-c6adb63c317d",
   "metadata": {},
   "outputs": [
    {
     "name": "stdin",
     "output_type": "stream",
     "text": [
      "Enter a =  2.5\n"
     ]
    }
   ],
   "source": [
    "a = float(input(\"Enter a = \"))"
   ]
  },
  {
   "cell_type": "code",
   "execution_count": 3,
   "id": "d95a56b4-46bb-4601-aa2c-7e67389ddb14",
   "metadata": {},
   "outputs": [
    {
     "name": "stdin",
     "output_type": "stream",
     "text": [
      "Enter b =  3\n"
     ]
    }
   ],
   "source": [
    "b = float(input(\"Enter b = \"))"
   ]
  },
  {
   "cell_type": "code",
   "execution_count": 4,
   "id": "c20e0661-8e96-414f-8d05-106b134cc7a3",
   "metadata": {},
   "outputs": [
    {
     "name": "stdin",
     "output_type": "stream",
     "text": [
      "Enter c =  3.5\n"
     ]
    }
   ],
   "source": [
    "c = float(input(\"Enter c = \"))"
   ]
  },
  {
   "cell_type": "code",
   "execution_count": 5,
   "id": "10ffdf6d-491c-4428-8114-7d2563be132b",
   "metadata": {},
   "outputs": [
    {
     "name": "stdin",
     "output_type": "stream",
     "text": [
      "Enter radian A =  60\n"
     ]
    }
   ],
   "source": [
    "A = float(input(\"Enter radian A = \"))"
   ]
  },
  {
   "cell_type": "code",
   "execution_count": 6,
   "id": "f8e9e468-6bff-4f02-ad11-dcaf512db327",
   "metadata": {},
   "outputs": [
    {
     "name": "stdin",
     "output_type": "stream",
     "text": [
      "Enter radian B =  50\n"
     ]
    }
   ],
   "source": [
    "B = float(input(\"Enter radian B = \"))"
   ]
  },
  {
   "cell_type": "code",
   "execution_count": 7,
   "id": "6eeff4b3-2d2b-42e2-adfe-c3369be42736",
   "metadata": {},
   "outputs": [
    {
     "name": "stdin",
     "output_type": "stream",
     "text": [
      "Enter radian C =  40\n"
     ]
    }
   ],
   "source": [
    "C = float(input(\"Enter radian C = \"))"
   ]
  },
  {
   "cell_type": "code",
   "execution_count": 8,
   "id": "ca5a969e-8be6-4cc5-a61b-2787172dc672",
   "metadata": {},
   "outputs": [],
   "source": [
    "S1, S2, S3 = 1/2 * (a*b*sin(C)), 1/2 * (a*c*sin(B)), 1/2 * (b*c*sin(A))"
   ]
  },
  {
   "cell_type": "code",
   "execution_count": 9,
   "id": "9b0cee60-456d-41d0-a46d-92f1cb30f7cf",
   "metadata": {},
   "outputs": [
    {
     "name": "stdout",
     "output_type": "stream",
     "text": [
      "2.794174351797558 -1.1478899849546884 -1.6002557607866377\n"
     ]
    }
   ],
   "source": [
    "print(S1, S2, S3)"
   ]
  },
  {
   "cell_type": "code",
   "execution_count": null,
   "id": "4b2d10ce-7fcc-401a-9319-f506250bc4a4",
   "metadata": {},
   "outputs": [],
   "source": []
  }
 ],
 "metadata": {
  "kernelspec": {
   "display_name": "Python [conda env:base] *",
   "language": "python",
   "name": "conda-base-py"
  },
  "language_info": {
   "codemirror_mode": {
    "name": "ipython",
    "version": 3
   },
   "file_extension": ".py",
   "mimetype": "text/x-python",
   "name": "python",
   "nbconvert_exporter": "python",
   "pygments_lexer": "ipython3",
   "version": "3.13.5"
  }
 },
 "nbformat": 4,
 "nbformat_minor": 5
}
