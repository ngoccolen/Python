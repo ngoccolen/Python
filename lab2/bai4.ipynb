{
 "cells": [
  {
   "cell_type": "code",
   "execution_count": 1,
   "id": "b03c2945-a955-485a-a4c1-9290b9c95293",
   "metadata": {},
   "outputs": [
    {
     "name": "stdin",
     "output_type": "stream",
     "text": [
      "Enter your string:  python 2.7\n"
     ]
    }
   ],
   "source": [
    "s1 = input(\"Enter your string: \")"
   ]
  },
  {
   "cell_type": "code",
   "execution_count": 3,
   "id": "11b9cb48-3fad-4e6c-9cbc-1f98c9ae8cfe",
   "metadata": {},
   "outputs": [
    {
     "name": "stdin",
     "output_type": "stream",
     "text": [
      "Enter the words that need to replace:  2.7\n"
     ]
    }
   ],
   "source": [
    "s2 = input(\"Enter the words that need to replace: \")"
   ]
  },
  {
   "cell_type": "code",
   "execution_count": 4,
   "id": "b821de13-51f3-4f72-abd2-573872f067bb",
   "metadata": {},
   "outputs": [
    {
     "name": "stdin",
     "output_type": "stream",
     "text": [
      "Enter the words after being replaced:  3.0\n"
     ]
    }
   ],
   "source": [
    "s3 = input(\"Enter the words after being replaced: \")"
   ]
  },
  {
   "cell_type": "code",
   "execution_count": 5,
   "id": "a8b98d1d-ede4-4acf-b1bb-7a310a4b49c9",
   "metadata": {},
   "outputs": [],
   "source": [
    "s1 = s1.replace(s2, s3)"
   ]
  },
  {
   "cell_type": "code",
   "execution_count": 6,
   "id": "f7036bfc-fd69-4405-a9eb-05ffd9e7a43a",
   "metadata": {},
   "outputs": [
    {
     "name": "stdout",
     "output_type": "stream",
     "text": [
      "python 3.0\n"
     ]
    }
   ],
   "source": [
    "print(s1)"
   ]
  },
  {
   "cell_type": "code",
   "execution_count": null,
   "id": "e1f0e933-defa-4e57-bcd0-6ad15d5cef56",
   "metadata": {},
   "outputs": [],
   "source": []
  }
 ],
 "metadata": {
  "kernelspec": {
   "display_name": "Python [conda env:base] *",
   "language": "python",
   "name": "conda-base-py"
  },
  "language_info": {
   "codemirror_mode": {
    "name": "ipython",
    "version": 3
   },
   "file_extension": ".py",
   "mimetype": "text/x-python",
   "name": "python",
   "nbconvert_exporter": "python",
   "pygments_lexer": "ipython3",
   "version": "3.13.5"
  }
 },
 "nbformat": 4,
 "nbformat_minor": 5
}
