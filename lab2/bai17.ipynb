{
 "cells": [
  {
   "cell_type": "code",
   "execution_count": 1,
   "id": "5d0e23e1-02f0-4668-a92b-af4aaf553689",
   "metadata": {},
   "outputs": [],
   "source": [
    "from math import *"
   ]
  },
  {
   "cell_type": "code",
   "execution_count": 3,
   "id": "7cfcfa96-c704-4be4-b21c-728756fa94e0",
   "metadata": {},
   "outputs": [
    {
     "name": "stdin",
     "output_type": "stream",
     "text": [
      "Nhập nhiệt độ không khí:  30\n"
     ]
    }
   ],
   "source": [
    "Ta = float(input(\"Nhập nhiệt độ không khí: \"))"
   ]
  },
  {
   "cell_type": "code",
   "execution_count": 4,
   "id": "5c225b1a-8dda-4f78-b763-3ac6a75f3b7e",
   "metadata": {},
   "outputs": [
    {
     "name": "stdin",
     "output_type": "stream",
     "text": [
      "Nhập tốc độ gió:  70\n"
     ]
    }
   ],
   "source": [
    "V = float(input(\"Nhập tốc độ gió: \"))"
   ]
  },
  {
   "cell_type": "code",
   "execution_count": 5,
   "id": "6343a514-ba77-4b69-bc2b-0a8c97edf299",
   "metadata": {},
   "outputs": [],
   "source": [
    "WCI = 13.12 + (0.62 * Ta) - (11.37 * V ** 0.16) + (0.3965 * Ta * V ** 0.16)"
   ]
  },
  {
   "cell_type": "code",
   "execution_count": 6,
   "id": "aa8e66f8-1b41-44f0-a537-3955c08c9a59",
   "metadata": {},
   "outputs": [
    {
     "name": "stdout",
     "output_type": "stream",
     "text": [
      "32.75603634196351\n"
     ]
    }
   ],
   "source": [
    "print(WCI)"
   ]
  },
  {
   "cell_type": "code",
   "execution_count": null,
   "id": "22188a61-314d-4c55-955d-0b468eb21967",
   "metadata": {},
   "outputs": [],
   "source": []
  }
 ],
 "metadata": {
  "kernelspec": {
   "display_name": "Python [conda env:base] *",
   "language": "python",
   "name": "conda-base-py"
  },
  "language_info": {
   "codemirror_mode": {
    "name": "ipython",
    "version": 3
   },
   "file_extension": ".py",
   "mimetype": "text/x-python",
   "name": "python",
   "nbconvert_exporter": "python",
   "pygments_lexer": "ipython3",
   "version": "3.13.5"
  }
 },
 "nbformat": 4,
 "nbformat_minor": 5
}
