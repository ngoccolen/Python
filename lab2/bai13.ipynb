{
 "cells": [
  {
   "cell_type": "code",
   "execution_count": 1,
   "id": "00c63ed4-db9c-4237-80b3-8b269b33eadd",
   "metadata": {},
   "outputs": [
    {
     "name": "stdin",
     "output_type": "stream",
     "text": [
      "Enter number:  5\n"
     ]
    }
   ],
   "source": [
    "n = int(input(\"Enter number: \"))"
   ]
  },
  {
   "cell_type": "code",
   "execution_count": 2,
   "id": "cb3df654-71f4-4c03-a518-4bf1a5cd60d6",
   "metadata": {},
   "outputs": [],
   "source": [
    "S = (n*(n+1))/2"
   ]
  },
  {
   "cell_type": "code",
   "execution_count": 3,
   "id": "969072df-2fd5-4cfd-9ee1-a5620a7d4029",
   "metadata": {},
   "outputs": [
    {
     "name": "stdout",
     "output_type": "stream",
     "text": [
      "15.0\n"
     ]
    }
   ],
   "source": [
    "print(S)"
   ]
  },
  {
   "cell_type": "code",
   "execution_count": null,
   "id": "b9eaa89e-394f-450c-993c-423c04ac9ec5",
   "metadata": {},
   "outputs": [],
   "source": []
  }
 ],
 "metadata": {
  "kernelspec": {
   "display_name": "Python [conda env:base] *",
   "language": "python",
   "name": "conda-base-py"
  },
  "language_info": {
   "codemirror_mode": {
    "name": "ipython",
    "version": 3
   },
   "file_extension": ".py",
   "mimetype": "text/x-python",
   "name": "python",
   "nbconvert_exporter": "python",
   "pygments_lexer": "ipython3",
   "version": "3.13.5"
  }
 },
 "nbformat": 4,
 "nbformat_minor": 5
}
