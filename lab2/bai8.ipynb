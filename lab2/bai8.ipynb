{
 "cells": [
  {
   "cell_type": "code",
   "execution_count": 1,
   "id": "2616e156-51f8-4f24-88ff-3089afcdc32b",
   "metadata": {},
   "outputs": [],
   "source": [
    "from math import *"
   ]
  },
  {
   "cell_type": "code",
   "execution_count": 2,
   "id": "405c6557-0934-4e5a-937d-4d211de2b281",
   "metadata": {},
   "outputs": [
    {
     "name": "stdin",
     "output_type": "stream",
     "text": [
      "Enter a =  5\n"
     ]
    }
   ],
   "source": [
    "a = float(input(\"Enter a = \"))"
   ]
  },
  {
   "cell_type": "code",
   "execution_count": 3,
   "id": "d6d87064-1314-400b-a8aa-c38694b3ea45",
   "metadata": {},
   "outputs": [],
   "source": [
    "S = a*a*(sqrt(3)/4)"
   ]
  },
  {
   "cell_type": "code",
   "execution_count": 4,
   "id": "3dcda7a3-0dd8-4f22-90f3-d8dfce878690",
   "metadata": {},
   "outputs": [
    {
     "name": "stdout",
     "output_type": "stream",
     "text": [
      "10.825317547305483\n"
     ]
    }
   ],
   "source": [
    "print(S)"
   ]
  },
  {
   "cell_type": "code",
   "execution_count": null,
   "id": "3209ee8d-0835-496d-9144-974288f05053",
   "metadata": {},
   "outputs": [],
   "source": []
  }
 ],
 "metadata": {
  "kernelspec": {
   "display_name": "Python [conda env:base] *",
   "language": "python",
   "name": "conda-base-py"
  },
  "language_info": {
   "codemirror_mode": {
    "name": "ipython",
    "version": 3
   },
   "file_extension": ".py",
   "mimetype": "text/x-python",
   "name": "python",
   "nbconvert_exporter": "python",
   "pygments_lexer": "ipython3",
   "version": "3.13.5"
  }
 },
 "nbformat": 4,
 "nbformat_minor": 5
}
