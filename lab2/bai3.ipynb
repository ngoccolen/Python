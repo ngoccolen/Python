{
 "cells": [
  {
   "cell_type": "code",
   "execution_count": 1,
   "id": "f8cfd225-d1d3-4c08-9a52-82a00f41ba88",
   "metadata": {},
   "outputs": [],
   "source": [
    "data = \"minhnhutvh@gmail.com Sat Jan 5 09:14:16\""
   ]
  },
  {
   "cell_type": "code",
   "execution_count": 2,
   "id": "ec2feb55-46fd-45b5-bb93-7cf60d985558",
   "metadata": {},
   "outputs": [],
   "source": [
    "start_position = data.find(\"@\")"
   ]
  },
  {
   "cell_type": "code",
   "execution_count": 3,
   "id": "ccceccd0-207f-4e37-8880-e32768b8e22e",
   "metadata": {},
   "outputs": [],
   "source": [
    "end_position = data.find(\"S\", start_position)"
   ]
  },
  {
   "cell_type": "code",
   "execution_count": 4,
   "id": "1c3a59a3-01a1-44ef-98fb-a955d96b2229",
   "metadata": {},
   "outputs": [],
   "source": [
    "host = data[start_position + 1 : end_position]"
   ]
  },
  {
   "cell_type": "code",
   "execution_count": 5,
   "id": "d91a5191-b879-4d76-94f2-f8a4ef18b5d8",
   "metadata": {},
   "outputs": [
    {
     "name": "stdout",
     "output_type": "stream",
     "text": [
      "gmail.com \n"
     ]
    }
   ],
   "source": [
    "print(host)"
   ]
  },
  {
   "cell_type": "code",
   "execution_count": null,
   "id": "54f4cd36-c031-4b85-ab94-05a037bb5346",
   "metadata": {},
   "outputs": [],
   "source": []
  }
 ],
 "metadata": {
  "kernelspec": {
   "display_name": "Python [conda env:base] *",
   "language": "python",
   "name": "conda-base-py"
  },
  "language_info": {
   "codemirror_mode": {
    "name": "ipython",
    "version": 3
   },
   "file_extension": ".py",
   "mimetype": "text/x-python",
   "name": "python",
   "nbconvert_exporter": "python",
   "pygments_lexer": "ipython3",
   "version": "3.13.5"
  }
 },
 "nbformat": 4,
 "nbformat_minor": 5
}
