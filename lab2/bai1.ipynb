{
 "cells": [
  {
   "cell_type": "code",
   "execution_count": 1,
   "id": "baf42295-e0f7-47c9-bce7-ed40dcfbd220",
   "metadata": {},
   "outputs": [
    {
     "name": "stdin",
     "output_type": "stream",
     "text": [
      "Enter your string ngon ngu python\n"
     ]
    }
   ],
   "source": [
    "s = input(\"Enter your string\")"
   ]
  },
  {
   "cell_type": "code",
   "execution_count": 3,
   "id": "ed84c8bb-cb74-49c0-a32d-31f34958c924",
   "metadata": {},
   "outputs": [
    {
     "name": "stdout",
     "output_type": "stream",
     "text": [
      "Upper string is: NGON NGU PYTHON\n"
     ]
    }
   ],
   "source": [
    "print(\"Upper string is: \" + s.upper())"
   ]
  },
  {
   "cell_type": "code",
   "execution_count": 4,
   "id": "a4b06447-1ff9-49b3-8930-3a983bd3267d",
   "metadata": {},
   "outputs": [
    {
     "name": "stdout",
     "output_type": "stream",
     "text": [
      "Lower string is: ngon ngu python\n"
     ]
    }
   ],
   "source": [
    "print(\"Lower string is: \" + s.lower())"
   ]
  },
  {
   "cell_type": "code",
   "execution_count": 5,
   "id": "ca3ad272-7f1c-4e08-b479-7a25593bcef7",
   "metadata": {},
   "outputs": [
    {
     "name": "stdout",
     "output_type": "stream",
     "text": [
      "Title string is: Ngon Ngu Python\n"
     ]
    }
   ],
   "source": [
    "print(\"Title string is: \" + s.title())"
   ]
  },
  {
   "cell_type": "code",
   "execution_count": null,
   "id": "160f283c-328d-4a78-9805-c1f721092d54",
   "metadata": {},
   "outputs": [],
   "source": []
  }
 ],
 "metadata": {
  "kernelspec": {
   "display_name": "Python [conda env:base] *",
   "language": "python",
   "name": "conda-base-py"
  },
  "language_info": {
   "codemirror_mode": {
    "name": "ipython",
    "version": 3
   },
   "file_extension": ".py",
   "mimetype": "text/x-python",
   "name": "python",
   "nbconvert_exporter": "python",
   "pygments_lexer": "ipython3",
   "version": "3.13.5"
  }
 },
 "nbformat": 4,
 "nbformat_minor": 5
}
