{
 "cells": [
  {
   "cell_type": "code",
   "execution_count": 1,
   "id": "92de5a7b-e80b-4d8d-a59c-a8dae5880f15",
   "metadata": {},
   "outputs": [],
   "source": [
    "data = \"minhnhutvh@gmail.com\""
   ]
  },
  {
   "cell_type": "code",
   "execution_count": 2,
   "id": "34a05e59-420e-4c61-8780-ed5fda03a57f",
   "metadata": {},
   "outputs": [],
   "source": [
    "position = data.find(\"@\")          "
   ]
  },
  {
   "cell_type": "code",
   "execution_count": 3,
   "id": "b1554aff-4bd6-448b-b385-aebc3a2f6b00",
   "metadata": {},
   "outputs": [],
   "source": [
    "host = data[position +1 :]"
   ]
  },
  {
   "cell_type": "code",
   "execution_count": 4,
   "id": "8eca514f-1ff2-452c-8dba-da6a9343e065",
   "metadata": {},
   "outputs": [
    {
     "name": "stdout",
     "output_type": "stream",
     "text": [
      "gmail.com\n"
     ]
    }
   ],
   "source": [
    "print(host)"
   ]
  },
  {
   "cell_type": "code",
   "execution_count": null,
   "id": "4e1ae403-6a69-4eba-b20f-4a188ccc770e",
   "metadata": {},
   "outputs": [],
   "source": []
  }
 ],
 "metadata": {
  "kernelspec": {
   "display_name": "Python [conda env:base] *",
   "language": "python",
   "name": "conda-base-py"
  },
  "language_info": {
   "codemirror_mode": {
    "name": "ipython",
    "version": 3
   },
   "file_extension": ".py",
   "mimetype": "text/x-python",
   "name": "python",
   "nbconvert_exporter": "python",
   "pygments_lexer": "ipython3",
   "version": "3.13.5"
  }
 },
 "nbformat": 4,
 "nbformat_minor": 5
}
