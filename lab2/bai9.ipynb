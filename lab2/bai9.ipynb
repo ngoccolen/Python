{
 "cells": [
  {
   "cell_type": "code",
   "execution_count": 1,
   "id": "e18afffa-deef-404b-92d1-2f94e7220d68",
   "metadata": {},
   "outputs": [],
   "source": [
    "from math import * "
   ]
  },
  {
   "cell_type": "code",
   "execution_count": 3,
   "id": "c9057c2e-f8e7-4843-b196-74f349107aab",
   "metadata": {},
   "outputs": [
    {
     "name": "stdin",
     "output_type": "stream",
     "text": [
      "Enter a =  5\n"
     ]
    }
   ],
   "source": [
    "a = float(input(\"Enter a = \"))"
   ]
  },
  {
   "cell_type": "code",
   "execution_count": 4,
   "id": "46f330e7-70ff-495d-8bff-d6ec9cb8de89",
   "metadata": {},
   "outputs": [
    {
     "name": "stdin",
     "output_type": "stream",
     "text": [
      "Enter radian A =  60\n"
     ]
    }
   ],
   "source": [
    "A = float(input(\"Enter radian A = \"))"
   ]
  },
  {
   "cell_type": "code",
   "execution_count": 5,
   "id": "ad2007d4-d995-4fe8-a302-30713830c181",
   "metadata": {},
   "outputs": [
    {
     "name": "stdin",
     "output_type": "stream",
     "text": [
      "Enter radian B =  50\n"
     ]
    }
   ],
   "source": [
    "B = float(input(\"Enter radian B = \"))"
   ]
  },
  {
   "cell_type": "code",
   "execution_count": 6,
   "id": "9fd025fb-0fae-416c-be06-7424afef9b84",
   "metadata": {},
   "outputs": [
    {
     "name": "stdin",
     "output_type": "stream",
     "text": [
      "Enter radian C =  40\n"
     ]
    }
   ],
   "source": [
    "C = float(input(\"Enter radian C = \"))"
   ]
  },
  {
   "cell_type": "code",
   "execution_count": 7,
   "id": "4427ac7d-89bb-4da1-bb57-82f0d4f8c25a",
   "metadata": {},
   "outputs": [],
   "source": [
    "S1, S2, S3 = 1/2 * (a*a*sin(C)), 1/2 * (a*a*sin(B)), 1/2 * (a*a*sin(A))"
   ]
  },
  {
   "cell_type": "code",
   "execution_count": 8,
   "id": "58b45579-73dd-4317-a4d1-20cc62cffac6",
   "metadata": {},
   "outputs": [
    {
     "name": "stdout",
     "output_type": "stream",
     "text": [
      "9.31391450599186 -3.2796856712991094 -3.8101327637777085\n"
     ]
    }
   ],
   "source": [
    "print(S1, S2, S3)"
   ]
  }
 ],
 "metadata": {
  "kernelspec": {
   "display_name": "Python [conda env:base] *",
   "language": "python",
   "name": "conda-base-py"
  },
  "language_info": {
   "codemirror_mode": {
    "name": "ipython",
    "version": 3
   },
   "file_extension": ".py",
   "mimetype": "text/x-python",
   "name": "python",
   "nbconvert_exporter": "python",
   "pygments_lexer": "ipython3",
   "version": "3.13.5"
  }
 },
 "nbformat": 4,
 "nbformat_minor": 5
}
