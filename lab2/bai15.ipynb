{
 "cells": [
  {
   "cell_type": "code",
   "execution_count": 1,
   "id": "5eb17358-0c44-48f1-9482-4e53b5fe0a83",
   "metadata": {},
   "outputs": [],
   "source": [
    "C = 4186"
   ]
  },
  {
   "cell_type": "code",
   "execution_count": 2,
   "id": "7929f7d0-d9ec-4856-b405-6e59a0603729",
   "metadata": {},
   "outputs": [
    {
     "name": "stdin",
     "output_type": "stream",
     "text": [
      "Nhập khối lượng nước:  150\n"
     ]
    }
   ],
   "source": [
    "M = float(input(\"Nhập khối lượng nước: \"))"
   ]
  },
  {
   "cell_type": "code",
   "execution_count": 3,
   "id": "08ac8fc0-5b04-4dd2-99b9-e2d55f61a209",
   "metadata": {},
   "outputs": [
    {
     "name": "stdin",
     "output_type": "stream",
     "text": [
      "Nhập sự thay đổi của nhiệt độ:  30\n"
     ]
    }
   ],
   "source": [
    "delta_T = float(input(\"Nhập sự thay đổi của nhiệt độ: \"))"
   ]
  },
  {
   "cell_type": "code",
   "execution_count": 4,
   "id": "89d416f9-388a-428f-9c01-7515f3c330d7",
   "metadata": {},
   "outputs": [],
   "source": [
    "Q = M * C * delta_T"
   ]
  },
  {
   "cell_type": "code",
   "execution_count": 5,
   "id": "dc52e1de-51f3-4453-921a-c62855e1c99e",
   "metadata": {},
   "outputs": [
    {
     "name": "stdout",
     "output_type": "stream",
     "text": [
      "18837000.0\n"
     ]
    }
   ],
   "source": [
    "print(Q)"
   ]
  },
  {
   "cell_type": "code",
   "execution_count": 6,
   "id": "792a187c-afbe-467f-8fd2-554572e55057",
   "metadata": {},
   "outputs": [],
   "source": [
    "Q_kWh = Q * 2.777e-7"
   ]
  },
  {
   "cell_type": "code",
   "execution_count": 7,
   "id": "f9b2ea1a-8593-4aea-95ed-23ebcf18bfa8",
   "metadata": {},
   "outputs": [],
   "source": [
    "cost = Q_kWh * 8.9"
   ]
  },
  {
   "cell_type": "code",
   "execution_count": 8,
   "id": "05dd06ec-7278-46ca-8d79-72eb0395c493",
   "metadata": {},
   "outputs": [
    {
     "name": "stdout",
     "output_type": "stream",
     "text": [
      "46.55621061\n"
     ]
    }
   ],
   "source": [
    "print(cost)"
   ]
  },
  {
   "cell_type": "code",
   "execution_count": null,
   "id": "9cb248c1-c38d-4500-9aba-ddf01c7512b4",
   "metadata": {},
   "outputs": [],
   "source": []
  }
 ],
 "metadata": {
  "kernelspec": {
   "display_name": "Python [conda env:base] *",
   "language": "python",
   "name": "conda-base-py"
  },
  "language_info": {
   "codemirror_mode": {
    "name": "ipython",
    "version": 3
   },
   "file_extension": ".py",
   "mimetype": "text/x-python",
   "name": "python",
   "nbconvert_exporter": "python",
   "pygments_lexer": "ipython3",
   "version": "3.13.5"
  }
 },
 "nbformat": 4,
 "nbformat_minor": 5
}
