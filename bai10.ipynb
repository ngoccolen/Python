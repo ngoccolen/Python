{
 "cells": [
  {
   "cell_type": "code",
   "execution_count": 1,
   "id": "3a7e2fc1-a963-4fbe-ba86-36f179e2edab",
   "metadata": {},
   "outputs": [],
   "source": [
    "from math import *"
   ]
  },
  {
   "cell_type": "code",
   "execution_count": 2,
   "id": "95902edc-1ea1-4e26-aa92-1dfa9041819c",
   "metadata": {},
   "outputs": [
    {
     "name": "stdin",
     "output_type": "stream",
     "text": [
      "Enter length =  12.5\n"
     ]
    }
   ],
   "source": [
    "length = float(input(\"Enter length = \"))"
   ]
  },
  {
   "cell_type": "code",
   "execution_count": 3,
   "id": "911ac1e4-0a67-4671-94b2-9aa7ed2c3e3a",
   "metadata": {},
   "outputs": [
    {
     "name": "stdin",
     "output_type": "stream",
     "text": [
      "Enter width =  14.2\n"
     ]
    }
   ],
   "source": [
    "width = float(input(\"Enter width = \"))"
   ]
  },
  {
   "cell_type": "code",
   "execution_count": 4,
   "id": "3a0c35b8-fdf8-4510-bfb3-20a4840748ef",
   "metadata": {},
   "outputs": [],
   "source": [
    "S = ceil(length * width)"
   ]
  },
  {
   "cell_type": "code",
   "execution_count": 5,
   "id": "b10de355-814d-402e-a083-6ce60a63a379",
   "metadata": {},
   "outputs": [
    {
     "name": "stdout",
     "output_type": "stream",
     "text": [
      "178\n"
     ]
    }
   ],
   "source": [
    "print(S)"
   ]
  },
  {
   "cell_type": "code",
   "execution_count": null,
   "id": "07463074-b74b-4539-aec2-0795421b0f01",
   "metadata": {},
   "outputs": [],
   "source": []
  }
 ],
 "metadata": {
  "kernelspec": {
   "display_name": "Python [conda env:base] *",
   "language": "python",
   "name": "conda-base-py"
  },
  "language_info": {
   "codemirror_mode": {
    "name": "ipython",
    "version": 3
   },
   "file_extension": ".py",
   "mimetype": "text/x-python",
   "name": "python",
   "nbconvert_exporter": "python",
   "pygments_lexer": "ipython3",
   "version": "3.13.5"
  }
 },
 "nbformat": 4,
 "nbformat_minor": 5
}
