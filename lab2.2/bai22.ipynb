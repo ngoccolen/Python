{
 "cells": [
  {
   "cell_type": "code",
   "execution_count": 1,
   "id": "c36d33c0-5b92-4466-b7c1-aab03dc61a7c",
   "metadata": {},
   "outputs": [],
   "source": [
    "def taods():\n",
    "    ds = list()\n",
    "    for i in range(1, 21):\n",
    "        ds.append(i**2)\n",
    "    print(ds[:5]+ds[-5:])"
   ]
  },
  {
   "cell_type": "code",
   "execution_count": 2,
   "id": "a17215fa-78a3-401b-aff6-85226c6ed323",
   "metadata": {},
   "outputs": [
    {
     "name": "stdout",
     "output_type": "stream",
     "text": [
      "[1, 4, 9, 16, 25, 256, 289, 324, 361, 400]\n"
     ]
    }
   ],
   "source": [
    "taods()"
   ]
  },
  {
   "cell_type": "code",
   "execution_count": null,
   "id": "04816707-f66b-4075-b149-42cf93247280",
   "metadata": {},
   "outputs": [],
   "source": []
  }
 ],
 "metadata": {
  "kernelspec": {
   "display_name": "Python [conda env:base] *",
   "language": "python",
   "name": "conda-base-py"
  },
  "language_info": {
   "codemirror_mode": {
    "name": "ipython",
    "version": 3
   },
   "file_extension": ".py",
   "mimetype": "text/x-python",
   "name": "python",
   "nbconvert_exporter": "python",
   "pygments_lexer": "ipython3",
   "version": "3.13.5"
  }
 },
 "nbformat": 4,
 "nbformat_minor": 5
}
