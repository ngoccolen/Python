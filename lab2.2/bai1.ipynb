{
 "cells": [
  {
   "cell_type": "code",
   "execution_count": 1,
   "id": "8ce2c699-96b7-4088-843a-ccdbf2f4102d",
   "metadata": {},
   "outputs": [
    {
     "name": "stdin",
     "output_type": "stream",
     "text": [
      "Enter your positive number:  10\n"
     ]
    }
   ],
   "source": [
    "n = input(\"Enter your positive number: \")"
   ]
  },
  {
   "cell_type": "code",
   "execution_count": 2,
   "id": "fc833411-c194-4241-9476-8933c13dd09d",
   "metadata": {},
   "outputs": [
    {
     "ename": "_IncompleteInputError",
     "evalue": "incomplete input (3918457123.py, line 1)",
     "output_type": "error",
     "traceback": [
      "\u001b[1;36m  Cell \u001b[1;32mIn[2], line 1\u001b[1;36m\u001b[0m\n\u001b[1;33m    if int(n) % 2 == 0:\u001b[0m\n\u001b[1;37m                       ^\u001b[0m\n\u001b[1;31m_IncompleteInputError\u001b[0m\u001b[1;31m:\u001b[0m incomplete input\n"
     ]
    }
   ],
   "source": [
    "if int(n) % 2 == 0:"
   ]
  },
  {
   "cell_type": "code",
   "execution_count": 3,
   "id": "31403418-47e2-4f53-b91a-74cc93124004",
   "metadata": {},
   "outputs": [
    {
     "name": "stdout",
     "output_type": "stream",
     "text": [
      "This is an even number\n"
     ]
    }
   ],
   "source": [
    "print(\"This is an even number\")"
   ]
  },
  {
   "cell_type": "code",
   "execution_count": null,
   "id": "311adfb0-27cc-460f-a65e-1b22adf3b908",
   "metadata": {},
   "outputs": [],
   "source": [
    "else"
   ]
  },
  {
   "cell_type": "code",
   "execution_count": null,
   "id": "332e467f-c86a-4047-aee8-c7ae5a35170a",
   "metadata": {},
   "outputs": [],
   "source": [
    "print(\"This is an odd number\")"
   ]
  }
 ],
 "metadata": {
  "kernelspec": {
   "display_name": "Python [conda env:base] *",
   "language": "python",
   "name": "conda-base-py"
  },
  "language_info": {
   "codemirror_mode": {
    "name": "ipython",
    "version": 3
   },
   "file_extension": ".py",
   "mimetype": "text/x-python",
   "name": "python",
   "nbconvert_exporter": "python",
   "pygments_lexer": "ipython3",
   "version": "3.13.5"
  }
 },
 "nbformat": 4,
 "nbformat_minor": 5
}
