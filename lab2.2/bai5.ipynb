{
 "cells": [
  {
   "cell_type": "code",
   "execution_count": 1,
   "id": "dbd83ea6-7a1d-43a4-8fe6-848708980e03",
   "metadata": {},
   "outputs": [
    {
     "name": "stdin",
     "output_type": "stream",
     "text": [
      "Enter an integer number:  5\n"
     ]
    }
   ],
   "source": [
    "n = int(input(\"Enter an integer number: \"))"
   ]
  },
  {
   "cell_type": "code",
   "execution_count": 2,
   "id": "87d2b7ac-ab80-4188-8632-d27159041d7d",
   "metadata": {},
   "outputs": [
    {
     "name": "stdout",
     "output_type": "stream",
     "text": [
      "Result is:  3.5500000000000003\n"
     ]
    }
   ],
   "source": [
    "if (n <= 0):\n",
    "    print(\"n must be greater than 0\")\n",
    "else:\n",
    "    sum = 0.0\n",
    "    for i in range (1, n+1):\n",
    "        sum+=i/(i+1)\n",
    "    print(\"Result is: \",sum)"
   ]
  },
  {
   "cell_type": "code",
   "execution_count": null,
   "id": "edfc0365-6f78-44fe-8a9c-17f8c09d79ec",
   "metadata": {},
   "outputs": [],
   "source": []
  }
 ],
 "metadata": {
  "kernelspec": {
   "display_name": "Python [conda env:base] *",
   "language": "python",
   "name": "conda-base-py"
  },
  "language_info": {
   "codemirror_mode": {
    "name": "ipython",
    "version": 3
   },
   "file_extension": ".py",
   "mimetype": "text/x-python",
   "name": "python",
   "nbconvert_exporter": "python",
   "pygments_lexer": "ipython3",
   "version": "3.13.5"
  }
 },
 "nbformat": 4,
 "nbformat_minor": 5
}
