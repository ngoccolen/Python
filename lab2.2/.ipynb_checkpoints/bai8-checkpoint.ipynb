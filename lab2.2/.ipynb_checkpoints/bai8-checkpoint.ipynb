{
 "cells": [
  {
   "cell_type": "code",
   "execution_count": 1,
   "id": "37f60cf5-cb00-458b-a6f6-b16efdb09ea8",
   "metadata": {},
   "outputs": [],
   "source": [
    "st1 = \"He is very handsome@%^&%^\""
   ]
  },
  {
   "cell_type": "code",
   "execution_count": 2,
   "id": "9f8305a6-6cd1-47bc-b668-7c6ff8298b95",
   "metadata": {},
   "outputs": [],
   "source": [
    "st2 = \"\""
   ]
  },
  {
   "cell_type": "code",
   "execution_count": 3,
   "id": "aedb6a98-9e4f-446a-b6ba-de3f81490f8f",
   "metadata": {},
   "outputs": [],
   "source": [
    "for ch in st1:\n",
    "    if ch.isalnum() or ch.isspace():  # chỉ giữ chữ, số, và khoảng trắng\n",
    "        st2 += ch"
   ]
  },
  {
   "cell_type": "code",
   "execution_count": 5,
   "id": "2c8259ef-5e33-40f1-9eef-f5e4918d1cc4",
   "metadata": {},
   "outputs": [
    {
     "name": "stdout",
     "output_type": "stream",
     "text": [
      "Filtered string: He is very handsome\n"
     ]
    }
   ],
   "source": [
    "print(\"Filtered string:\", st2)"
   ]
  },
  {
   "cell_type": "code",
   "execution_count": null,
   "id": "7ec72525-1568-43b9-8e74-23463b2f81b7",
   "metadata": {},
   "outputs": [],
   "source": []
  }
 ],
 "metadata": {
  "kernelspec": {
   "display_name": "Python [conda env:base] *",
   "language": "python",
   "name": "conda-base-py"
  },
  "language_info": {
   "codemirror_mode": {
    "name": "ipython",
    "version": 3
   },
   "file_extension": ".py",
   "mimetype": "text/x-python",
   "name": "python",
   "nbconvert_exporter": "python",
   "pygments_lexer": "ipython3",
   "version": "3.13.5"
  }
 },
 "nbformat": 4,
 "nbformat_minor": 5
}
