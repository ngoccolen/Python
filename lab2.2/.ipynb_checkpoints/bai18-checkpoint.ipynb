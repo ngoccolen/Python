{
 "cells": [
  {
   "cell_type": "code",
   "execution_count": 1,
   "id": "0fc99f31-3805-4740-b325-40dc6fa30b8c",
   "metadata": {},
   "outputs": [
    {
     "name": "stdin",
     "output_type": "stream",
     "text": [
      "Enter string:  Hello World\n"
     ]
    }
   ],
   "source": [
    "st = input(\"Enter string: \")"
   ]
  },
  {
   "cell_type": "code",
   "execution_count": 2,
   "id": "b06bf7b4-7b7f-4812-b7aa-c391a0043da6",
   "metadata": {},
   "outputs": [],
   "source": [
    "d = {\"upper\" : 0, \"lower\" : 0}"
   ]
  },
  {
   "cell_type": "code",
   "execution_count": 3,
   "id": "02247feb-dd42-4631-a10a-e9d7e8bc1aac",
   "metadata": {},
   "outputs": [],
   "source": [
    "for ch in st:\n",
    "    if ch.isupper() == True:\n",
    "        d[\"upper\"] += 1\n",
    "    elif ch.islower() == True:\n",
    "        d[\"lower\"] += 1\n",
    "    else: pass"
   ]
  },
  {
   "cell_type": "code",
   "execution_count": 4,
   "id": "519fa01e-923e-4b8b-b9f8-beeeb59ce63e",
   "metadata": {},
   "outputs": [
    {
     "name": "stdout",
     "output_type": "stream",
     "text": [
      "2\n"
     ]
    }
   ],
   "source": [
    "print(d[\"upper\"])"
   ]
  },
  {
   "cell_type": "code",
   "execution_count": 5,
   "id": "7d765716-cfbf-4d80-9720-1882a1e1e724",
   "metadata": {},
   "outputs": [
    {
     "name": "stdout",
     "output_type": "stream",
     "text": [
      "8\n"
     ]
    }
   ],
   "source": [
    "print(d[\"lower\"])"
   ]
  },
  {
   "cell_type": "code",
   "execution_count": null,
   "id": "62f2e31c-2d0f-4d94-972f-d93aeb6403c8",
   "metadata": {},
   "outputs": [],
   "source": []
  }
 ],
 "metadata": {
  "kernelspec": {
   "display_name": "Python [conda env:base] *",
   "language": "python",
   "name": "conda-base-py"
  },
  "language_info": {
   "codemirror_mode": {
    "name": "ipython",
    "version": 3
   },
   "file_extension": ".py",
   "mimetype": "text/x-python",
   "name": "python",
   "nbconvert_exporter": "python",
   "pygments_lexer": "ipython3",
   "version": "3.13.5"
  }
 },
 "nbformat": 4,
 "nbformat_minor": 5
}
