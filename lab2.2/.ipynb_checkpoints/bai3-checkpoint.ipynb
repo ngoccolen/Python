{
 "cells": [
  {
   "cell_type": "code",
   "execution_count": 1,
   "id": "1aa778e1-b5eb-42d9-b744-5af9d3a537ef",
   "metadata": {},
   "outputs": [
    {
     "name": "stdin",
     "output_type": "stream",
     "text": [
      "Enter your string:  Python 3.1\n"
     ]
    }
   ],
   "source": [
    "st = input(\"Enter your string: \")"
   ]
  },
  {
   "cell_type": "code",
   "execution_count": 2,
   "id": "fa898dc7-7960-4fe1-a07e-dc3e47ac4774",
   "metadata": {},
   "outputs": [
    {
     "name": "stdin",
     "output_type": "stream",
     "text": [
      "Enter your search string:  Python\n"
     ]
    }
   ],
   "source": [
    "st_search = input(\"Enter your search string: \")"
   ]
  },
  {
   "cell_type": "code",
   "execution_count": 3,
   "id": "8d05dfa3-c924-4a83-991e-1d8999edc574",
   "metadata": {},
   "outputs": [
    {
     "name": "stdout",
     "output_type": "stream",
     "text": [
      "A search string was found, at location: 0\n"
     ]
    }
   ],
   "source": [
    "if st_search in st:\n",
    "        print(\"A search string was found, at location: \" + str(st.find(st_search)))\n",
    "else:\n",
    "    print(\"Not found\")"
   ]
  },
  {
   "cell_type": "code",
   "execution_count": null,
   "id": "13d4ac7a-93e1-4b0c-beb1-4fc3ed87a45b",
   "metadata": {},
   "outputs": [],
   "source": []
  },
  {
   "cell_type": "code",
   "execution_count": null,
   "id": "06b73b17-252b-4ee6-9c7c-3e001b6d822c",
   "metadata": {},
   "outputs": [],
   "source": []
  }
 ],
 "metadata": {
  "kernelspec": {
   "display_name": "Python [conda env:base] *",
   "language": "python",
   "name": "conda-base-py"
  },
  "language_info": {
   "codemirror_mode": {
    "name": "ipython",
    "version": 3
   },
   "file_extension": ".py",
   "mimetype": "text/x-python",
   "name": "python",
   "nbconvert_exporter": "python",
   "pygments_lexer": "ipython3",
   "version": "3.13.5"
  }
 },
 "nbformat": 4,
 "nbformat_minor": 5
}
