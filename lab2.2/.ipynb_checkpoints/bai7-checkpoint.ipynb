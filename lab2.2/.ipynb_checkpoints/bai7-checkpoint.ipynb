{
 "cells": [
  {
   "cell_type": "code",
   "execution_count": 1,
   "id": "fd132127-d3cc-4b0f-9ea1-36c3b09aecc7",
   "metadata": {},
   "outputs": [
    {
     "name": "stdin",
     "output_type": "stream",
     "text": [
      "Enter a number:  153\n"
     ]
    }
   ],
   "source": [
    "n = int(input(\"Enter a number: \"))"
   ]
  },
  {
   "cell_type": "code",
   "execution_count": 2,
   "id": "d27f3435-3117-4928-9671-a20423359ed5",
   "metadata": {},
   "outputs": [
    {
     "name": "stdin",
     "output_type": "stream",
     "text": [
      "Enter level:  3\n"
     ]
    }
   ],
   "source": [
    "l = int(input(\"Enter level: \"))"
   ]
  },
  {
   "cell_type": "code",
   "execution_count": 3,
   "id": "5bf70e07-2b14-4b8f-98c6-de2ae59521e8",
   "metadata": {},
   "outputs": [],
   "source": [
    "sum = 0"
   ]
  },
  {
   "cell_type": "code",
   "execution_count": 4,
   "id": "856d193b-584c-4d3c-920d-340855ccc1e6",
   "metadata": {},
   "outputs": [],
   "source": [
    "temp = n"
   ]
  },
  {
   "cell_type": "code",
   "execution_count": 5,
   "id": "cc366a81-c795-429d-b857-36a195802c00",
   "metadata": {},
   "outputs": [],
   "source": [
    "while temp > 0:\n",
    "    digit = temp % 10\n",
    "    sum += digit ** l\n",
    "    temp //= 10"
   ]
  },
  {
   "cell_type": "code",
   "execution_count": 6,
   "id": "b551a509-171c-429b-9d85-1666580195ea",
   "metadata": {},
   "outputs": [
    {
     "name": "stdout",
     "output_type": "stream",
     "text": [
      "153 is Amstrong number\n"
     ]
    }
   ],
   "source": [
    "if (n == sum):\n",
    "    print(n, \"is Amstrong number\")\n",
    "else:\n",
    "    print (n, \"is not Amstrong number\")"
   ]
  },
  {
   "cell_type": "code",
   "execution_count": null,
   "id": "38f537a1-491c-4957-8723-96fc919e81bf",
   "metadata": {},
   "outputs": [],
   "source": []
  }
 ],
 "metadata": {
  "kernelspec": {
   "display_name": "Python [conda env:base] *",
   "language": "python",
   "name": "conda-base-py"
  },
  "language_info": {
   "codemirror_mode": {
    "name": "ipython",
    "version": 3
   },
   "file_extension": ".py",
   "mimetype": "text/x-python",
   "name": "python",
   "nbconvert_exporter": "python",
   "pygments_lexer": "ipython3",
   "version": "3.13.5"
  }
 },
 "nbformat": 4,
 "nbformat_minor": 5
}
