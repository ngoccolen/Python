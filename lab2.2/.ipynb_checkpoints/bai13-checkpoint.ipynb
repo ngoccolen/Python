{
 "cells": [
  {
   "cell_type": "code",
   "execution_count": 1,
   "id": "a4cb65b7-fa38-4253-851b-54d3f0c4ff22",
   "metadata": {},
   "outputs": [],
   "source": [
    "lines=[]"
   ]
  },
  {
   "cell_type": "code",
   "execution_count": 2,
   "id": "adee205d-dc95-47d5-b974-effa2f322a8a",
   "metadata": {},
   "outputs": [
    {
     "name": "stdin",
     "output_type": "stream",
     "text": [
      " hello world\n",
      " python\n",
      " \n"
     ]
    }
   ],
   "source": [
    "while (True):\n",
    "    s=input()\n",
    "    if s:\n",
    "        lines.append(s.upper())\n",
    "    else:\n",
    "        break"
   ]
  },
  {
   "cell_type": "code",
   "execution_count": 3,
   "id": "76745a92-af90-4058-9861-2c8b67b9b791",
   "metadata": {},
   "outputs": [
    {
     "name": "stdout",
     "output_type": "stream",
     "text": [
      "HELLO WORLD\n",
      "PYTHON\n"
     ]
    }
   ],
   "source": [
    "for sentence in lines:\n",
    "    print(sentence)"
   ]
  },
  {
   "cell_type": "code",
   "execution_count": null,
   "id": "36bfb5f0-ac90-4050-b610-59110b6639a0",
   "metadata": {},
   "outputs": [],
   "source": []
  }
 ],
 "metadata": {
  "kernelspec": {
   "display_name": "Python [conda env:base] *",
   "language": "python",
   "name": "conda-base-py"
  },
  "language_info": {
   "codemirror_mode": {
    "name": "ipython",
    "version": 3
   },
   "file_extension": ".py",
   "mimetype": "text/x-python",
   "name": "python",
   "nbconvert_exporter": "python",
   "pygments_lexer": "ipython3",
   "version": "3.13.5"
  }
 },
 "nbformat": 4,
 "nbformat_minor": 5
}
