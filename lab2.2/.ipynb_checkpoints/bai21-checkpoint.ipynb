{
 "cells": [
  {
   "cell_type": "code",
   "execution_count": 1,
   "id": "d61fc31b-c8d4-4f1e-ba22-971098093119",
   "metadata": {},
   "outputs": [],
   "source": [
    "def taods():\n",
    "    ds = list()\n",
    "    for i in range(1, 21):\n",
    "        ds.append(i**2)\n",
    "    print(ds)"
   ]
  },
  {
   "cell_type": "code",
   "execution_count": 2,
   "id": "6dfd0d7d-0465-499b-975c-1e556b7ee64f",
   "metadata": {},
   "outputs": [
    {
     "name": "stdout",
     "output_type": "stream",
     "text": [
      "[1, 4, 9, 16, 25, 36, 49, 64, 81, 100, 121, 144, 169, 196, 225, 256, 289, 324, 361, 400]\n"
     ]
    }
   ],
   "source": [
    "taods()"
   ]
  },
  {
   "cell_type": "code",
   "execution_count": null,
   "id": "cd5a0762-bcf5-48f1-b90a-975e90d7123c",
   "metadata": {},
   "outputs": [],
   "source": []
  }
 ],
 "metadata": {
  "kernelspec": {
   "display_name": "Python [conda env:base] *",
   "language": "python",
   "name": "conda-base-py"
  },
  "language_info": {
   "codemirror_mode": {
    "name": "ipython",
    "version": 3
   },
   "file_extension": ".py",
   "mimetype": "text/x-python",
   "name": "python",
   "nbconvert_exporter": "python",
   "pygments_lexer": "ipython3",
   "version": "3.13.5"
  }
 },
 "nbformat": 4,
 "nbformat_minor": 5
}
