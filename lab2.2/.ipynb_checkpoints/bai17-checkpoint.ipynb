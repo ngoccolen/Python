{
 "cells": [
  {
   "cell_type": "code",
   "execution_count": 1,
   "id": "11b8a77b-09a9-42b9-872a-1c1fed7c56a4",
   "metadata": {},
   "outputs": [
    {
     "name": "stdin",
     "output_type": "stream",
     "text": [
      "Enter string:  Python 3.1\n"
     ]
    }
   ],
   "source": [
    "st = input(\"Enter string: \")"
   ]
  },
  {
   "cell_type": "code",
   "execution_count": 2,
   "id": "ec5e445a-9563-42ef-a822-0585952e7f06",
   "metadata": {},
   "outputs": [],
   "source": [
    "d = {\"letter\" : 0, \"number\" : 0}"
   ]
  },
  {
   "cell_type": "code",
   "execution_count": 3,
   "id": "dd60cb2c-6b7e-4be2-a983-7bb5003c6aa7",
   "metadata": {},
   "outputs": [],
   "source": [
    "for ch in st:\n",
    "    if ch.isalpha() == True:\n",
    "        d[\"letter\"] += 1\n",
    "    elif ch.isdigit() == True:\n",
    "        d[\"number\"]+=1\n",
    "    else: pass"
   ]
  },
  {
   "cell_type": "code",
   "execution_count": 4,
   "id": "41289789-7709-4052-8ed3-d4515984b2f5",
   "metadata": {},
   "outputs": [
    {
     "name": "stdout",
     "output_type": "stream",
     "text": [
      "6\n"
     ]
    }
   ],
   "source": [
    "print(d[\"letter\"])"
   ]
  },
  {
   "cell_type": "code",
   "execution_count": 5,
   "id": "c05e92df-47de-47f4-b659-1ef064668082",
   "metadata": {},
   "outputs": [
    {
     "name": "stdout",
     "output_type": "stream",
     "text": [
      "2\n"
     ]
    }
   ],
   "source": [
    "print(d[\"number\"])"
   ]
  },
  {
   "cell_type": "code",
   "execution_count": null,
   "id": "1155344d-52a5-45ef-bdf5-2920a44598cf",
   "metadata": {},
   "outputs": [],
   "source": []
  }
 ],
 "metadata": {
  "kernelspec": {
   "display_name": "Python [conda env:base] *",
   "language": "python",
   "name": "conda-base-py"
  },
  "language_info": {
   "codemirror_mode": {
    "name": "ipython",
    "version": 3
   },
   "file_extension": ".py",
   "mimetype": "text/x-python",
   "name": "python",
   "nbconvert_exporter": "python",
   "pygments_lexer": "ipython3",
   "version": "3.13.5"
  }
 },
 "nbformat": 4,
 "nbformat_minor": 5
}
