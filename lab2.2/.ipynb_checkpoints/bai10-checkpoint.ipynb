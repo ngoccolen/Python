{
 "cells": [
  {
   "cell_type": "code",
   "execution_count": 1,
   "id": "be02c4e6-4e92-4eb0-a5a1-0257beadf6c5",
   "metadata": {},
   "outputs": [],
   "source": [
    "sum = 0"
   ]
  },
  {
   "cell_type": "code",
   "execution_count": 2,
   "id": "15a2354e-8e51-44ca-87bb-aad9da193b08",
   "metadata": {},
   "outputs": [],
   "source": [
    "count = 0"
   ]
  },
  {
   "cell_type": "code",
   "execution_count": 4,
   "id": "f393fb26-a904-4914-9ee4-987d59ed9e35",
   "metadata": {},
   "outputs": [
    {
     "name": "stdin",
     "output_type": "stream",
     "text": [
      "Enter number:  7\n",
      "Enter number:  8\n",
      "Enter number:  9\n",
      "Enter number:  x\n"
     ]
    }
   ],
   "source": [
    "while (True):\n",
    "    n = input(\"Enter number: \")\n",
    "    if n == \"x\":\n",
    "        break\n",
    "    value = float(n)\n",
    "    sum += value\n",
    "    count = count + 1"
   ]
  },
  {
   "cell_type": "code",
   "execution_count": 5,
   "id": "d25956f2-1180-43f6-a328-b81483520ebb",
   "metadata": {},
   "outputs": [],
   "source": [
    "average = sum/count"
   ]
  },
  {
   "cell_type": "code",
   "execution_count": 6,
   "id": "2e2b765b-66ea-4419-82fb-b4610d66ce96",
   "metadata": {},
   "outputs": [
    {
     "name": "stdout",
     "output_type": "stream",
     "text": [
      "Average is:  8.0\n"
     ]
    }
   ],
   "source": [
    "print(\"Average is: \", average)"
   ]
  },
  {
   "cell_type": "code",
   "execution_count": null,
   "id": "6421ce0c-6ff8-455d-aa4e-43f5f058c98e",
   "metadata": {},
   "outputs": [],
   "source": []
  }
 ],
 "metadata": {
  "kernelspec": {
   "display_name": "Python [conda env:base] *",
   "language": "python",
   "name": "conda-base-py"
  },
  "language_info": {
   "codemirror_mode": {
    "name": "ipython",
    "version": 3
   },
   "file_extension": ".py",
   "mimetype": "text/x-python",
   "name": "python",
   "nbconvert_exporter": "python",
   "pygments_lexer": "ipython3",
   "version": "3.13.5"
  }
 },
 "nbformat": 4,
 "nbformat_minor": 5
}
