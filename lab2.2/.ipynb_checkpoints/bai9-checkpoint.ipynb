{
 "cells": [
  {
   "cell_type": "code",
   "execution_count": 1,
   "id": "43cddaa7-abc6-4a40-bcf5-0b58562877cc",
   "metadata": {},
   "outputs": [
    {
     "name": "stdin",
     "output_type": "stream",
     "text": [
      "Enter your string:  Nguyen Ngoc\n"
     ]
    }
   ],
   "source": [
    "st = input(\"Enter your string: \")"
   ]
  },
  {
   "cell_type": "code",
   "execution_count": 2,
   "id": "00e808c2-642d-4ec8-98a2-dbb525d10350",
   "metadata": {},
   "outputs": [],
   "source": [
    "str1 = st.split()"
   ]
  },
  {
   "cell_type": "code",
   "execution_count": 3,
   "id": "19e263e9-7306-46f9-9892-4c30a5b98251",
   "metadata": {},
   "outputs": [],
   "source": [
    "str1.sort()"
   ]
  },
  {
   "cell_type": "code",
   "execution_count": 4,
   "id": "309d134a-739a-44dd-adee-a96c31b508a8",
   "metadata": {},
   "outputs": [
    {
     "name": "stdout",
     "output_type": "stream",
     "text": [
      "Ngoc\n",
      "Nguyen\n"
     ]
    }
   ],
   "source": [
    "for i in str1:\n",
    "    print(i)"
   ]
  },
  {
   "cell_type": "code",
   "execution_count": null,
   "id": "dde3b99b-7013-4945-b6e2-d15fc57b0ac6",
   "metadata": {},
   "outputs": [],
   "source": []
  }
 ],
 "metadata": {
  "kernelspec": {
   "display_name": "Python [conda env:base] *",
   "language": "python",
   "name": "conda-base-py"
  },
  "language_info": {
   "codemirror_mode": {
    "name": "ipython",
    "version": 3
   },
   "file_extension": ".py",
   "mimetype": "text/x-python",
   "name": "python",
   "nbconvert_exporter": "python",
   "pygments_lexer": "ipython3",
   "version": "3.13.5"
  }
 },
 "nbformat": 4,
 "nbformat_minor": 5
}
