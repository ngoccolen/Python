{
 "cells": [
  {
   "cell_type": "code",
   "execution_count": 1,
   "id": "c10858cb-79ac-4d4d-8eeb-914b54ef6dea",
   "metadata": {},
   "outputs": [],
   "source": [
    "def check_chan(x):\n",
    "    if x % 2 == 0:\n",
    "        print(x, \"là số chẵn\")\n",
    "    else:\n",
    "        print(x, \"là số lẻ\")"
   ]
  },
  {
   "cell_type": "code",
   "execution_count": null,
   "id": "7bf1d386-a1dc-4ffc-b8e1-9aba74779468",
   "metadata": {},
   "outputs": [],
   "source": []
  }
 ],
 "metadata": {
  "kernelspec": {
   "display_name": "Python [conda env:base] *",
   "language": "python",
   "name": "conda-base-py"
  },
  "language_info": {
   "codemirror_mode": {
    "name": "ipython",
    "version": 3
   },
   "file_extension": ".py",
   "mimetype": "text/x-python",
   "name": "python",
   "nbconvert_exporter": "python",
   "pygments_lexer": "ipython3",
   "version": "3.13.5"
  }
 },
 "nbformat": 4,
 "nbformat_minor": 5
}
