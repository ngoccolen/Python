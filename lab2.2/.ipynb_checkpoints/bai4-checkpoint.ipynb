{
 "cells": [
  {
   "cell_type": "code",
   "execution_count": 1,
   "id": "3f6e0b0e-c288-4ec4-90ec-a41f71637707",
   "metadata": {},
   "outputs": [
    {
     "name": "stdin",
     "output_type": "stream",
     "text": [
      "Enter first number:  10\n"
     ]
    }
   ],
   "source": [
    "n1 = float(input(\"Enter first number: \"))"
   ]
  },
  {
   "cell_type": "code",
   "execution_count": 2,
   "id": "6c5c2c60-efd1-417d-8fb9-7a20d2571624",
   "metadata": {},
   "outputs": [
    {
     "name": "stdin",
     "output_type": "stream",
     "text": [
      "Enter second number:  4\n"
     ]
    }
   ],
   "source": [
    "n2 = float(input(\"Enter second number: \"))"
   ]
  },
  {
   "cell_type": "code",
   "execution_count": 3,
   "id": "ee808a0a-f35f-4c01-ac6b-87741cf43388",
   "metadata": {},
   "outputs": [
    {
     "name": "stdin",
     "output_type": "stream",
     "text": [
      "Enter third number:  8\n"
     ]
    }
   ],
   "source": [
    "n3 = float(input(\"Enter third number: \"))"
   ]
  },
  {
   "cell_type": "code",
   "execution_count": 4,
   "id": "295bfa32-1b31-4331-b31f-eaaefb9c2bd5",
   "metadata": {},
   "outputs": [
    {
     "name": "stdout",
     "output_type": "stream",
     "text": [
      "The largest number is: 10.0\n"
     ]
    }
   ],
   "source": [
    "if (n1 > n2) and (n1 > n3):\n",
    "    max = n1\n",
    "elif (n2 > n1) and (n2 > n3):\n",
    "    max = n2\n",
    "else:\n",
    "    max = n3\n",
    "print(\"The largest number is: \" + str(max))"
   ]
  },
  {
   "cell_type": "code",
   "execution_count": null,
   "id": "fc64bdde-04b7-4591-8a8f-09efc3afbd32",
   "metadata": {},
   "outputs": [],
   "source": []
  }
 ],
 "metadata": {
  "kernelspec": {
   "display_name": "Python [conda env:base] *",
   "language": "python",
   "name": "conda-base-py"
  },
  "language_info": {
   "codemirror_mode": {
    "name": "ipython",
    "version": 3
   },
   "file_extension": ".py",
   "mimetype": "text/x-python",
   "name": "python",
   "nbconvert_exporter": "python",
   "pygments_lexer": "ipython3",
   "version": "3.13.5"
  }
 },
 "nbformat": 4,
 "nbformat_minor": 5
}
