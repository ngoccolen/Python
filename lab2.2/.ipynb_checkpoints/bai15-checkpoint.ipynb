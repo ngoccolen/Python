{
 "cells": [
  {
   "cell_type": "code",
   "execution_count": 1,
   "id": "62265756-a965-4de5-968a-0ccbc497fea6",
   "metadata": {},
   "outputs": [
    {
     "name": "stdin",
     "output_type": "stream",
     "text": [
      "Enter number:  15, 60, 70, 80\n"
     ]
    }
   ],
   "source": [
    "st = input(\"Enter number: \")"
   ]
  },
  {
   "cell_type": "code",
   "execution_count": 2,
   "id": "063ecada-3b99-4119-8ea1-0ae6f635551f",
   "metadata": {},
   "outputs": [],
   "source": [
    "lists =st.split(\",\")"
   ]
  },
  {
   "cell_type": "code",
   "execution_count": 3,
   "id": "897e5bb4-2588-4496-acdd-daca22c4415f",
   "metadata": {},
   "outputs": [],
   "source": [
    "tuples = tuple(lists)"
   ]
  },
  {
   "cell_type": "code",
   "execution_count": 4,
   "id": "1daa9092-9ae2-417b-85a3-f6f13754d9f5",
   "metadata": {},
   "outputs": [
    {
     "name": "stdout",
     "output_type": "stream",
     "text": [
      "['15', ' 60', ' 70', ' 80']\n"
     ]
    }
   ],
   "source": [
    "print(lists)"
   ]
  },
  {
   "cell_type": "code",
   "execution_count": 5,
   "id": "95595fb7-2c74-4622-9901-55700826c83d",
   "metadata": {},
   "outputs": [
    {
     "name": "stdout",
     "output_type": "stream",
     "text": [
      "('15', ' 60', ' 70', ' 80')\n"
     ]
    }
   ],
   "source": [
    "print(tuples)"
   ]
  },
  {
   "cell_type": "code",
   "execution_count": null,
   "id": "a99b0b84-c611-4cbc-b02e-b3b306818f91",
   "metadata": {},
   "outputs": [],
   "source": []
  }
 ],
 "metadata": {
  "kernelspec": {
   "display_name": "Python [conda env:base] *",
   "language": "python",
   "name": "conda-base-py"
  },
  "language_info": {
   "codemirror_mode": {
    "name": "ipython",
    "version": 3
   },
   "file_extension": ".py",
   "mimetype": "text/x-python",
   "name": "python",
   "nbconvert_exporter": "python",
   "pygments_lexer": "ipython3",
   "version": "3.13.5"
  }
 },
 "nbformat": 4,
 "nbformat_minor": 5
}
