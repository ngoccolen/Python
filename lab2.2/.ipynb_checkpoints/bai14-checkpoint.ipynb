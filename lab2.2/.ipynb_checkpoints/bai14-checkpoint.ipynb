{
 "cells": [
  {
   "cell_type": "code",
   "execution_count": 1,
   "id": "18e29f93-aa5c-4dd4-94ea-ae0f4fd17f29",
   "metadata": {},
   "outputs": [],
   "source": [
    "values=[]"
   ]
  },
  {
   "cell_type": "code",
   "execution_count": 2,
   "id": "caa1d7c2-da23-4d83-b815-56189c650a6b",
   "metadata": {},
   "outputs": [],
   "source": [
    "for i in range(100, 301):\n",
    "    s=str(i)\n",
    "    if all(int(ch) % 2==0 for ch in s):\n",
    "        values.append(str(i))"
   ]
  },
  {
   "cell_type": "code",
   "execution_count": 3,
   "id": "ef37d5a3-df5f-46e4-8038-c6e53a5a623e",
   "metadata": {},
   "outputs": [
    {
     "name": "stdout",
     "output_type": "stream",
     "text": [
      "200, 202, 204, 206, 208, 220, 222, 224, 226, 228, 240, 242, 244, 246, 248, 260, 262, 264, 266, 268, 280, 282, 284, 286, 288\n"
     ]
    }
   ],
   "source": [
    "print(\", \".join(values))"
   ]
  },
  {
   "cell_type": "code",
   "execution_count": null,
   "id": "f4cf32e3-8522-4c72-9f65-534098c4422b",
   "metadata": {},
   "outputs": [],
   "source": []
  }
 ],
 "metadata": {
  "kernelspec": {
   "display_name": "Python [conda env:base] *",
   "language": "python",
   "name": "conda-base-py"
  },
  "language_info": {
   "codemirror_mode": {
    "name": "ipython",
    "version": 3
   },
   "file_extension": ".py",
   "mimetype": "text/x-python",
   "name": "python",
   "nbconvert_exporter": "python",
   "pygments_lexer": "ipython3",
   "version": "3.13.5"
  }
 },
 "nbformat": 4,
 "nbformat_minor": 5
}
