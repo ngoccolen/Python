{
 "cells": [
  {
   "cell_type": "code",
   "execution_count": 1,
   "id": "32322ada-6086-48e9-96d8-1e464f183382",
   "metadata": {},
   "outputs": [
    {
     "name": "stdin",
     "output_type": "stream",
     "text": [
      "Nhập số cần tính:  3\n"
     ]
    }
   ],
   "source": [
    "x = int(input(\"Nhập số cần tính: \"))"
   ]
  },
  {
   "cell_type": "code",
   "execution_count": 2,
   "id": "7110997c-93b5-4c30-a79b-493145f62e1f",
   "metadata": {},
   "outputs": [],
   "source": [
    "def giaithua(x):\n",
    "    if x == 0:\n",
    "        return 1\n",
    "    else:\n",
    "        return x * giaithua(x -1)"
   ]
  },
  {
   "cell_type": "code",
   "execution_count": 3,
   "id": "1efb7a66-9b73-4b9a-bdf5-1cef2170e522",
   "metadata": {},
   "outputs": [
    {
     "name": "stdout",
     "output_type": "stream",
     "text": [
      "6\n"
     ]
    }
   ],
   "source": [
    "print(giaithua(x))"
   ]
  },
  {
   "cell_type": "code",
   "execution_count": null,
   "id": "5fa0bf39-d94d-48ec-a4b8-81183340bae0",
   "metadata": {},
   "outputs": [],
   "source": []
  }
 ],
 "metadata": {
  "kernelspec": {
   "display_name": "Python [conda env:base] *",
   "language": "python",
   "name": "conda-base-py"
  },
  "language_info": {
   "codemirror_mode": {
    "name": "ipython",
    "version": 3
   },
   "file_extension": ".py",
   "mimetype": "text/x-python",
   "name": "python",
   "nbconvert_exporter": "python",
   "pygments_lexer": "ipython3",
   "version": "3.13.5"
  }
 },
 "nbformat": 4,
 "nbformat_minor": 5
}
