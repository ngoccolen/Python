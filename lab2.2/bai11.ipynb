{
 "cells": [
  {
   "cell_type": "code",
   "execution_count": 1,
   "id": "fb68a4a1-b88c-4610-8f1b-22463bc19c30",
   "metadata": {},
   "outputs": [],
   "source": [
    "numlist = list()"
   ]
  },
  {
   "cell_type": "code",
   "execution_count": 2,
   "id": "062263db-7961-47e9-bae2-b5b560ae4429",
   "metadata": {},
   "outputs": [
    {
     "name": "stdin",
     "output_type": "stream",
     "text": [
      "Enter number:  6\n",
      "Enter number:  7\n",
      "Enter number:  8\n",
      "Enter number:  x\n"
     ]
    }
   ],
   "source": [
    "while (True):\n",
    "    n = input(\"Enter number: \")\n",
    "    if n == \"x\": break\n",
    "    value = float(n)\n",
    "    numlist.append(value)"
   ]
  },
  {
   "cell_type": "code",
   "execution_count": 3,
   "id": "cbc36e97-b894-477d-ac4d-d614e7261dc4",
   "metadata": {},
   "outputs": [],
   "source": [
    "average = sum(numlist)/len(numlist)"
   ]
  },
  {
   "cell_type": "code",
   "execution_count": 4,
   "id": "9480feaa-f94d-4115-858e-aeab3e0fb2fb",
   "metadata": {},
   "outputs": [
    {
     "name": "stdout",
     "output_type": "stream",
     "text": [
      "average is:  7.0\n"
     ]
    }
   ],
   "source": [
    "print(\"average is: \", average)"
   ]
  }
 ],
 "metadata": {
  "kernelspec": {
   "display_name": "Python [conda env:base] *",
   "language": "python",
   "name": "conda-base-py"
  },
  "language_info": {
   "codemirror_mode": {
    "name": "ipython",
    "version": 3
   },
   "file_extension": ".py",
   "mimetype": "text/x-python",
   "name": "python",
   "nbconvert_exporter": "python",
   "pygments_lexer": "ipython3",
   "version": "3.13.5"
  }
 },
 "nbformat": 4,
 "nbformat_minor": 5
}
