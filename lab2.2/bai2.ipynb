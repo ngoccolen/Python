{
 "cells": [
  {
   "cell_type": "code",
   "execution_count": 1,
   "id": "8f9d0bb7-1d63-44f8-b109-47404d100e6a",
   "metadata": {},
   "outputs": [
    {
     "name": "stdin",
     "output_type": "stream",
     "text": [
      "Enter your string:  Nguyen Ngoc\n"
     ]
    }
   ],
   "source": [
    "st = input(\"Enter your string: \")"
   ]
  },
  {
   "cell_type": "code",
   "execution_count": 2,
   "id": "1945fc91-1518-4b35-9c1f-eea6a927eaf4",
   "metadata": {},
   "outputs": [
    {
     "name": "stdout",
     "output_type": "stream",
     "text": [
      " This string contains upper and lower characters \n"
     ]
    }
   ],
   "source": [
    "if st.isupper():\n",
    "   \t    print(\"This is an upper string\")\n",
    "elif st.islower():\n",
    "   \t    print(\"This is an lower string\")\n",
    "else:\n",
    "   \t    print(\" This string contains upper and lower characters \")"
   ]
  },
  {
   "cell_type": "code",
   "execution_count": null,
   "id": "3d966976-9f35-49c3-b787-388108dd71c9",
   "metadata": {},
   "outputs": [],
   "source": []
  }
 ],
 "metadata": {
  "kernelspec": {
   "display_name": "Python [conda env:base] *",
   "language": "python",
   "name": "conda-base-py"
  },
  "language_info": {
   "codemirror_mode": {
    "name": "ipython",
    "version": 3
   },
   "file_extension": ".py",
   "mimetype": "text/x-python",
   "name": "python",
   "nbconvert_exporter": "python",
   "pygments_lexer": "ipython3",
   "version": "3.13.5"
  }
 },
 "nbformat": 4,
 "nbformat_minor": 5
}
