{
 "cells": [
  {
   "cell_type": "code",
   "execution_count": 1,
   "id": "a797c1a7-23da-406b-ae3d-996ad76b2cc8",
   "metadata": {},
   "outputs": [
    {
     "name": "stdin",
     "output_type": "stream",
     "text": [
      "Enter your sentence:  Nguyen Ngoc\n"
     ]
    }
   ],
   "source": [
    "st = input(\"Enter your sentence: \")"
   ]
  },
  {
   "cell_type": "code",
   "execution_count": 2,
   "id": "d812ee3d-bb9a-4b0b-9cb8-c5e4f7485b85",
   "metadata": {},
   "outputs": [],
   "source": [
    "sum_upper_char = 0"
   ]
  },
  {
   "cell_type": "code",
   "execution_count": 3,
   "id": "69f5bf5f-f530-476b-b9f4-882d54c78bd5",
   "metadata": {},
   "outputs": [],
   "source": [
    "sum_lower_char = 0"
   ]
  },
  {
   "cell_type": "code",
   "execution_count": 4,
   "id": "e80c1c26-4813-4d07-8bbb-976160db52ca",
   "metadata": {},
   "outputs": [
    {
     "name": "stdout",
     "output_type": "stream",
     "text": [
      "sum of upper characters:  2\n",
      "sum of lower characters:  8\n"
     ]
    }
   ],
   "source": [
    "for c in st:\n",
    "    if c.isupper():\n",
    "        sum_upper_char += 1\n",
    "    elif c.islower():\n",
    "        sum_lower_char += 1\n",
    "    else:\n",
    "        pass\n",
    "print(\"sum of upper characters: \", sum_upper_char)\n",
    "print(\"sum of lower characters: \", sum_lower_char)"
   ]
  },
  {
   "cell_type": "code",
   "execution_count": null,
   "id": "242f0115-4a60-4348-a300-89b2a82719d3",
   "metadata": {},
   "outputs": [],
   "source": []
  }
 ],
 "metadata": {
  "kernelspec": {
   "display_name": "Python [conda env:base] *",
   "language": "python",
   "name": "conda-base-py"
  },
  "language_info": {
   "codemirror_mode": {
    "name": "ipython",
    "version": 3
   },
   "file_extension": ".py",
   "mimetype": "text/x-python",
   "name": "python",
   "nbconvert_exporter": "python",
   "pygments_lexer": "ipython3",
   "version": "3.13.5"
  }
 },
 "nbformat": 4,
 "nbformat_minor": 5
}
